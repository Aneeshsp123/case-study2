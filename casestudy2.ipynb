{
 "cells": [
  {
   "cell_type": "markdown",
   "id": "7a4feabd",
   "metadata": {},
   "source": [
    "# Case Study on Measures of Central Tendency and Dispersion\n",
    "An Institution wishes to find out their student’s ability in maths, reading and\n",
    "writing skills. The Institution wants to do an exploratory study to check the\n",
    "following information"
   ]
  },
  {
   "cell_type": "code",
   "execution_count": 7,
   "id": "6e36742e",
   "metadata": {},
   "outputs": [],
   "source": [
    "import pandas as pd\n",
    "import numpy as np\n",
    "import matplotlib.pyplot as plt\n",
    "import seaborn as sns\n"
   ]
  },
  {
   "cell_type": "markdown",
   "id": "a0999f02",
   "metadata": {},
   "source": [
    "# Basic data identification"
   ]
  },
  {
   "cell_type": "code",
   "execution_count": 2,
   "id": "fdc79c2a",
   "metadata": {},
   "outputs": [
    {
     "name": "stdout",
     "output_type": "stream",
     "text": [
      "     gender race/ethnicity parental level of education         lunch  \\\n",
      "0    female        group C            some high school  free/reduced   \n",
      "1    female        group B                 high school  free/reduced   \n",
      "2    female        group B            some high school  free/reduced   \n",
      "3    female        group B                some college      standard   \n",
      "4    female        group C                some college  free/reduced   \n",
      "..      ...            ...                         ...           ...   \n",
      "995    male        group E                some college      standard   \n",
      "996    male        group A                some college      standard   \n",
      "997    male        group D                some college      standard   \n",
      "998    male        group E          associate's degree  free/reduced   \n",
      "999    male        group E           bachelor's degree      standard   \n",
      "\n",
      "    test preparation course  math score  reading score  writing score  \n",
      "0                      none           0             17             10  \n",
      "1                      none           8             24             23  \n",
      "2                      none          18             32             28  \n",
      "3                      none          11             38             32  \n",
      "4                      none          22             39             33  \n",
      "..                      ...         ...            ...            ...  \n",
      "995               completed          99             87             81  \n",
      "996               completed         100             96             86  \n",
      "997               completed         100             97             99  \n",
      "998               completed         100            100             93  \n",
      "999               completed         100            100            100  \n",
      "\n",
      "[1000 rows x 8 columns]\n"
     ]
    }
   ],
   "source": [
    "import pandas as pd\n",
    "##filename=('cars_data.csv')\n",
    "data = pd.read_csv(\"Downloads/StudentsPerformance (2).csv\")\n",
    "print(data)"
   ]
  },
  {
   "cell_type": "markdown",
   "id": "72027672",
   "metadata": {},
   "source": [
    "# NULL Value"
   ]
  },
  {
   "cell_type": "code",
   "execution_count": 41,
   "id": "e54a1c8f",
   "metadata": {},
   "outputs": [
    {
     "data": {
      "text/plain": [
       "gender                         0\n",
       "race/ethnicity                 0\n",
       "parental level of education    0\n",
       "lunch                          0\n",
       "test preparation course        0\n",
       "math score                     0\n",
       "reading score                  0\n",
       "writing score                  0\n",
       "avg score                      0\n",
       "dtype: int64"
      ]
     },
     "execution_count": 41,
     "metadata": {},
     "output_type": "execute_result"
    }
   ],
   "source": [
    "data.isnull().sum()"
   ]
  },
  {
   "cell_type": "markdown",
   "id": "993b00d2",
   "metadata": {},
   "source": [
    "# Classification of data according to the mean,std etc"
   ]
  },
  {
   "cell_type": "code",
   "execution_count": 42,
   "id": "84c08cc0",
   "metadata": {},
   "outputs": [
    {
     "data": {
      "text/html": [
       "<div>\n",
       "<style scoped>\n",
       "    .dataframe tbody tr th:only-of-type {\n",
       "        vertical-align: middle;\n",
       "    }\n",
       "\n",
       "    .dataframe tbody tr th {\n",
       "        vertical-align: top;\n",
       "    }\n",
       "\n",
       "    .dataframe thead th {\n",
       "        text-align: right;\n",
       "    }\n",
       "</style>\n",
       "<table border=\"1\" class=\"dataframe\">\n",
       "  <thead>\n",
       "    <tr style=\"text-align: right;\">\n",
       "      <th></th>\n",
       "      <th>math score</th>\n",
       "      <th>reading score</th>\n",
       "      <th>writing score</th>\n",
       "      <th>avg score</th>\n",
       "    </tr>\n",
       "  </thead>\n",
       "  <tbody>\n",
       "    <tr>\n",
       "      <th>count</th>\n",
       "      <td>1000.000000</td>\n",
       "      <td>1000.000000</td>\n",
       "      <td>1000.000000</td>\n",
       "      <td>1000.000000</td>\n",
       "    </tr>\n",
       "    <tr>\n",
       "      <th>mean</th>\n",
       "      <td>66.001000</td>\n",
       "      <td>69.195000</td>\n",
       "      <td>68.119000</td>\n",
       "      <td>67.770700</td>\n",
       "    </tr>\n",
       "    <tr>\n",
       "      <th>std</th>\n",
       "      <td>15.569567</td>\n",
       "      <td>14.706436</td>\n",
       "      <td>15.226381</td>\n",
       "      <td>14.409176</td>\n",
       "    </tr>\n",
       "    <tr>\n",
       "      <th>min</th>\n",
       "      <td>0.000000</td>\n",
       "      <td>17.000000</td>\n",
       "      <td>10.000000</td>\n",
       "      <td>9.000000</td>\n",
       "    </tr>\n",
       "    <tr>\n",
       "      <th>25%</th>\n",
       "      <td>57.000000</td>\n",
       "      <td>59.000000</td>\n",
       "      <td>58.000000</td>\n",
       "      <td>58.300000</td>\n",
       "    </tr>\n",
       "    <tr>\n",
       "      <th>50%</th>\n",
       "      <td>66.000000</td>\n",
       "      <td>70.000000</td>\n",
       "      <td>69.000000</td>\n",
       "      <td>68.700000</td>\n",
       "    </tr>\n",
       "    <tr>\n",
       "      <th>75%</th>\n",
       "      <td>77.000000</td>\n",
       "      <td>79.250000</td>\n",
       "      <td>79.000000</td>\n",
       "      <td>77.775000</td>\n",
       "    </tr>\n",
       "    <tr>\n",
       "      <th>max</th>\n",
       "      <td>100.000000</td>\n",
       "      <td>100.000000</td>\n",
       "      <td>100.000000</td>\n",
       "      <td>100.000000</td>\n",
       "    </tr>\n",
       "  </tbody>\n",
       "</table>\n",
       "</div>"
      ],
      "text/plain": [
       "        math score  reading score  writing score    avg score\n",
       "count  1000.000000    1000.000000    1000.000000  1000.000000\n",
       "mean     66.001000      69.195000      68.119000    67.770700\n",
       "std      15.569567      14.706436      15.226381    14.409176\n",
       "min       0.000000      17.000000      10.000000     9.000000\n",
       "25%      57.000000      59.000000      58.000000    58.300000\n",
       "50%      66.000000      70.000000      69.000000    68.700000\n",
       "75%      77.000000      79.250000      79.000000    77.775000\n",
       "max     100.000000     100.000000     100.000000   100.000000"
      ]
     },
     "execution_count": 42,
     "metadata": {},
     "output_type": "execute_result"
    }
   ],
   "source": [
    "data.describe()"
   ]
  },
  {
   "cell_type": "markdown",
   "id": "f13c4f94",
   "metadata": {},
   "source": [
    "# 1.  how many males and females participated in the test"
   ]
  },
  {
   "cell_type": "code",
   "execution_count": 3,
   "id": "3b8cd567",
   "metadata": {},
   "outputs": [
    {
     "data": {
      "text/plain": [
       "female    518\n",
       "male      482\n",
       "Name: gender, dtype: int64"
      ]
     },
     "execution_count": 3,
     "metadata": {},
     "output_type": "execute_result"
    }
   ],
   "source": [
    "data['gender'].value_counts()"
   ]
  },
  {
   "cell_type": "code",
   "execution_count": null,
   "id": "7bfad2a6",
   "metadata": {},
   "outputs": [],
   "source": []
  },
  {
   "cell_type": "markdown",
   "id": "d054a029",
   "metadata": {},
   "source": [
    "# Male candidates are comparitevely less comapred to female candidates "
   ]
  },
  {
   "cell_type": "markdown",
   "id": "98c8cdb6",
   "metadata": {},
   "source": [
    "# 2. What do you think about the students' parental level of education?"
   ]
  },
  {
   "cell_type": "code",
   "execution_count": 4,
   "id": "42a054d8",
   "metadata": {},
   "outputs": [
    {
     "data": {
      "text/plain": [
       "count             1000\n",
       "unique               6\n",
       "top       some college\n",
       "freq               226\n",
       "Name: parental level of education, dtype: object"
      ]
     },
     "execution_count": 4,
     "metadata": {},
     "output_type": "execute_result"
    }
   ],
   "source": [
    "data[\"parental level of education\"].describe()"
   ]
  },
  {
   "cell_type": "code",
   "execution_count": 8,
   "id": "b794ae78",
   "metadata": {},
   "outputs": [
    {
     "data": {
      "text/plain": [
       "Text(0, 0.5, 'Count')"
      ]
     },
     "execution_count": 8,
     "metadata": {},
     "output_type": "execute_result"
    },
    {
     "data": {
      "image/png": "[encoded data removed]",
      "text/plain": [
       "<Figure size 720x864 with 1 Axes>"
      ]
     },
     "metadata": {
      "needs_background": "light"
     },
     "output_type": "display_data"
    }
   ],
   "source": [
    "Education = data['parental level of education'].value_counts().to_frame().reset_index()\n",
    "plt.figure(figsize=(10,12))\n",
    "plt.bar(Education['index'],Education['parental level of education'])\n",
    "plt.title('parental level of education')\n",
    "plt.xlabel('parental level of education')\n",
    "plt.ylabel('Count') "
   ]
  },
  {
   "cell_type": "markdown",
   "id": "8c42b04c",
   "metadata": {},
   "source": [
    "# Most of the parents have some college education  ,least parents have masters in relevent subjects"
   ]
  },
  {
   "cell_type": "markdown",
   "id": "956a3097",
   "metadata": {},
   "source": [
    "# 3. Who scores the most on average for math, reading and writing based on:"
   ]
  },
  {
   "cell_type": "code",
   "execution_count": 10,
   "id": "f4191f3b",
   "metadata": {},
   "outputs": [
    {
     "data": {
      "text/plain": [
       "none         642\n",
       "completed    358\n",
       "Name: test preparation course, dtype: int64"
      ]
     },
     "execution_count": 10,
     "metadata": {},
     "output_type": "execute_result"
    }
   ],
   "source": [
    "data['test preparation course'].value_counts()\n"
   ]
  },
  {
   "cell_type": "code",
   "execution_count": 11,
   "id": "39b7ac28",
   "metadata": {},
   "outputs": [
    {
     "data": {
      "text/plain": [
       "math score       66.001\n",
       "reading score    69.195\n",
       "writing score    68.119\n",
       "dtype: float64"
      ]
     },
     "execution_count": 11,
     "metadata": {},
     "output_type": "execute_result"
    }
   ],
   "source": [
    "data.mean(axis=0)\n"
   ]
  },
  {
   "cell_type": "markdown",
   "id": "1c806048",
   "metadata": {},
   "source": [
    "# A)Gender"
   ]
  },
  {
   "cell_type": "code",
   "execution_count": 14,
   "id": "7bd89a55",
   "metadata": {},
   "outputs": [
    {
     "data": {
      "text/plain": [
       "gender\n",
       "female    69.477992\n",
       "male      65.935892\n",
       "Name: avg score, dtype: float64"
      ]
     },
     "execution_count": 14,
     "metadata": {},
     "output_type": "execute_result"
    }
   ],
   "source": [
    "data.groupby('gender')['avg score'].mean().sort_values(ascending=False)"
   ]
  },
  {
   "cell_type": "markdown",
   "id": "bca46fde",
   "metadata": {},
   "source": [
    "# Female students have better average score compared to male students"
   ]
  },
  {
   "cell_type": "markdown",
   "id": "bbaf4a59",
   "metadata": {},
   "source": [
    "# B) Test preparation course"
   ]
  },
  {
   "cell_type": "code",
   "execution_count": 17,
   "id": "ef7e9bba",
   "metadata": {},
   "outputs": [
    {
     "data": {
      "text/plain": [
       "test preparation course\n",
       "completed    72.942458\n",
       "none         64.886760\n",
       "Name: avg score, dtype: float64"
      ]
     },
     "execution_count": 17,
     "metadata": {},
     "output_type": "execute_result"
    }
   ],
   "source": [
    "data.groupby('test preparation course')['avg score'].mean().sort_values(ascending=False)"
   ]
  },
  {
   "cell_type": "markdown",
   "id": "6118a342",
   "metadata": {},
   "source": [
    "# Those who completed the test preparation course have better average marks"
   ]
  },
  {
   "cell_type": "markdown",
   "id": "ccbb55b5",
   "metadata": {},
   "source": [
    "# 4) The scoring variation for math, reading and writing based on Gender\n"
   ]
  },
  {
   "cell_type": "code",
   "execution_count": 25,
   "id": "fbba3b82",
   "metadata": {},
   "outputs": [
    {
     "data": {
      "text/plain": [
       "<AxesSubplot:xlabel='gender'>"
      ]
     },
     "execution_count": 25,
     "metadata": {},
     "output_type": "execute_result"
    },
    {
     "data": {
      "image/png": "[encoded data removed]",
      "text/plain": [
       "<Figure size 1440x360 with 1 Axes>"
      ]
     },
     "metadata": {
      "needs_background": "light"
     },
     "output_type": "display_data"
    },
    {
     "data": {
      "text/plain": [
       "<Figure size 1440x360 with 0 Axes>"
      ]
     },
     "metadata": {},
     "output_type": "display_data"
    }
   ],
   "source": [
    "plt1 = plt.figure(figsize=(20,5))\n",
    "gs1 = plt1.add_gridspec(1,4)\n",
    "gs1.update(wspace=0.5, hspace=0.3)\n",
    "plt2 = plt.figure(figsize=(20,5))\n",
    "gs2 = plt2.add_gridspec(1,4)\n",
    "gs2.update(wspace=0.5, hspace=0.3)\n",
    "\n",
    "ax0 = plt1.add_subplot(gs1[0,0])\n",
    "data.groupby('gender')['math score'].mean().sort_values(ascending=False).plot(kind='bar', width=0.8, edgecolor='k',ax=ax0)"
   ]
  },
  {
   "cell_type": "code",
   "execution_count": null,
   "id": "2557072a",
   "metadata": {},
   "outputs": [],
   "source": []
  },
  {
   "cell_type": "markdown",
   "id": "b92077bc",
   "metadata": {},
   "source": [
    "# This plot shows that \"Male students tends to perform better at math than female students\""
   ]
  },
  {
   "cell_type": "markdown",
   "id": "28b0b8c4",
   "metadata": {},
   "source": [
    "# Plot: Gender vs reading score"
   ]
  },
  {
   "cell_type": "code",
   "execution_count": 24,
   "id": "a79348d7",
   "metadata": {},
   "outputs": [
    {
     "data": {
      "text/plain": [
       "<AxesSubplot:xlabel='gender'>"
      ]
     },
     "execution_count": 24,
     "metadata": {},
     "output_type": "execute_result"
    },
    {
     "data": {
      "image/png": "[encoded data removed]",
      "text/plain": [
       "<Figure size 1440x360 with 1 Axes>"
      ]
     },
     "metadata": {
      "needs_background": "light"
     },
     "output_type": "display_data"
    },
    {
     "data": {
      "text/plain": [
       "<Figure size 1440x360 with 0 Axes>"
      ]
     },
     "metadata": {},
     "output_type": "display_data"
    }
   ],
   "source": [
    "plot1 = plt.figure(figsize=(20,5))\n",
    "gs1 = plot1.add_gridspec(1,3)\n",
    "gs1.update(wspace=0.5, hspace=0.3)\n",
    "plot2 = plt.figure(figsize=(20,5))\n",
    "gs2 = plot2.add_gridspec(1,4)\n",
    "gs2.update(wspace=0.5, hspace=0.3)\n",
    "\n",
    "ax0 = plot1.add_subplot(gs1[0,0])\n",
    "data.groupby('gender')['reading score'].mean().sort_values(ascending=False).plot(kind='bar', width=0.8, edgecolor='k',ax=ax0)"
   ]
  },
  {
   "cell_type": "markdown",
   "id": "a5f1c04a",
   "metadata": {},
   "source": [
    "# this plot shows that \"Female students tends to perform better at reading than male students\""
   ]
  },
  {
   "cell_type": "markdown",
   "id": "5155f950",
   "metadata": {},
   "source": [
    "# Plot: Gender vs writing score"
   ]
  },
  {
   "cell_type": "code",
   "execution_count": 30,
   "id": "989d9900",
   "metadata": {},
   "outputs": [
    {
     "data": {
      "text/plain": [
       "<AxesSubplot:xlabel='gender'>"
      ]
     },
     "execution_count": 30,
     "metadata": {},
     "output_type": "execute_result"
    },
    {
     "data": {
      "image/png": "[encoded data removed]",
      "text/plain": [
       "<Figure size 1440x360 with 1 Axes>"
      ]
     },
     "metadata": {
      "needs_background": "light"
     },
     "output_type": "display_data"
    },
    {
     "data": {
      "text/plain": [
       "<Figure size 1440x288 with 0 Axes>"
      ]
     },
     "metadata": {},
     "output_type": "display_data"
    }
   ],
   "source": [
    "plt1 = plt.figure(figsize=(20,5))\n",
    "gs1 = plt1.add_gridspec(1,3)\n",
    "gs1.update(wspace=0.5, hspace=0.3)\n",
    "plt2 = plt.figure(figsize=(20,4))\n",
    "gs2 = plt2.add_gridspec(1,4)\n",
    "gs2.update(wspace=1, hspace=0.5)\n",
    "\n",
    "ax0 = plt1.add_subplot(gs1[0,0])\n",
    "data.groupby('gender')['writing score'].mean().sort_values(ascending=False).plot(kind='bar', width=0.8, edgecolor='k',ax=ax0)\n"
   ]
  },
  {
   "cell_type": "markdown",
   "id": "7864e9d6",
   "metadata": {},
   "source": [
    "# Female students tends to perform better at writing than male students"
   ]
  },
  {
   "cell_type": "markdown",
   "id": "6f2d452d",
   "metadata": {},
   "source": [
    "# B)Scoring variation on the basis of test preparation course"
   ]
  },
  {
   "cell_type": "markdown",
   "id": "8560a649",
   "metadata": {},
   "source": [
    "# Plot: test preparation course vs reading score"
   ]
  },
  {
   "cell_type": "code",
   "execution_count": 31,
   "id": "e84599e8",
   "metadata": {},
   "outputs": [
    {
     "data": {
      "text/plain": [
       "<AxesSubplot:xlabel='test preparation course'>"
      ]
     },
     "execution_count": 31,
     "metadata": {},
     "output_type": "execute_result"
    },
    {
     "data": {
      "image/png": "[encoded data removed]",
      "text/plain": [
       "<Figure size 1296x360 with 1 Axes>"
      ]
     },
     "metadata": {
      "needs_background": "light"
     },
     "output_type": "display_data"
    },
    {
     "data": {
      "text/plain": [
       "<Figure size 1296x288 with 0 Axes>"
      ]
     },
     "metadata": {},
     "output_type": "display_data"
    }
   ],
   "source": [
    "plt1 = plt.figure(figsize=(18,5))\n",
    "gs1 = plt1.add_gridspec(1,3)\n",
    "gs1.update(wspace=0.5, hspace=0.3)\n",
    "plt2 = plt.figure(figsize=(18,4))\n",
    "gs2 = plt2.add_gridspec(1,4)\n",
    "gs2.update(wspace=0.5, hspace=0.3)\n",
    "\n",
    "ax0 = plt1.add_subplot(gs1[0,0])\n",
    "data.groupby('test preparation course')['reading score'].mean().sort_values(ascending=False).plot(kind='bar', width=0.8, edgecolor='k',ax=ax0)\n"
   ]
  },
  {
   "cell_type": "markdown",
   "id": "45f2cd99",
   "metadata": {},
   "source": [
    "# test preparation course vs math score"
   ]
  },
  {
   "cell_type": "code",
   "execution_count": 43,
   "id": "f8241e59",
   "metadata": {},
   "outputs": [
    {
     "data": {
      "text/plain": [
       "<AxesSubplot:xlabel='test preparation course'>"
      ]
     },
     "execution_count": 43,
     "metadata": {},
     "output_type": "execute_result"
    },
    {
     "data": {
      "image/png": "[encoded data removed]",
      "text/plain": [
       "<Figure size 1296x360 with 1 Axes>"
      ]
     },
     "metadata": {
      "needs_background": "light"
     },
     "output_type": "display_data"
    },
    {
     "data": {
      "text/plain": [
       "<Figure size 1296x288 with 0 Axes>"
      ]
     },
     "metadata": {},
     "output_type": "display_data"
    }
   ],
   "source": [
    "plt1 = plt.figure(figsize=(18,5))\n",
    "gs1 = plt1.add_gridspec(1,3)\n",
    "gs1.update(wspace=0.5, hspace=0.3)\n",
    "plt2 = plt.figure(figsize=(18,4))\n",
    "gs2 = plt2.add_gridspec(1,4)\n",
    "gs2.update(wspace=0.5, hspace=0.3)\n",
    "\n",
    "ax0 = plt1.add_subplot(gs1[0,0])\n",
    "data.groupby('test preparation course')['math score'].mean().sort_values(ascending=False).plot(kind='bar', width=0.8, edgecolor='k',ax=ax0)"
   ]
  },
  {
   "cell_type": "markdown",
   "id": "5fae1064",
   "metadata": {},
   "source": [
    "# Plot: test preparation course vs writing score\n"
   ]
  },
  {
   "cell_type": "code",
   "execution_count": 32,
   "id": "b2b15ca3",
   "metadata": {},
   "outputs": [
    {
     "data": {
      "text/plain": [
       "<AxesSubplot:xlabel='test preparation course'>"
      ]
     },
     "execution_count": 32,
     "metadata": {},
     "output_type": "execute_result"
    },
    {
     "data": {
      "image/png": "[encoded data removed]",
      "text/plain": [
       "<Figure size 1296x360 with 1 Axes>"
      ]
     },
     "metadata": {
      "needs_background": "light"
     },
     "output_type": "display_data"
    },
    {
     "data": {
      "text/plain": [
       "<Figure size 1296x288 with 0 Axes>"
      ]
     },
     "metadata": {},
     "output_type": "display_data"
    }
   ],
   "source": [
    "plt1 = plt.figure(figsize=(18,5))\n",
    "gs1 = plt1.add_gridspec(1,3)\n",
    "gs1.update(wspace=0.5, hspace=0.3)\n",
    "plt2 = plt.figure(figsize=(18,4))\n",
    "gs2 = plt2.add_gridspec(1,4)\n",
    "gs2.update(wspace=0.5, hspace=0.3)\n",
    "\n",
    "ax0 = plt1.add_subplot(gs1[0,0])\n",
    "\n",
    "data.groupby('test preparation course')['writing score'].mean().sort_values(ascending=False).plot(kind='bar', width=0.8, edgecolor='k',ax=ax0)"
   ]
  },
  {
   "cell_type": "markdown",
   "id": "c58a82fa",
   "metadata": {},
   "source": [
    "# all the graph in this session gives the inference that test course prepration completed students got more marks all fields."
   ]
  },
  {
   "cell_type": "markdown",
   "id": "26e998d1",
   "metadata": {},
   "source": [
    "# 5.Top 25% of students based on their math score\n"
   ]
  },
  {
   "cell_type": "code",
   "execution_count": 36,
   "id": "9cce15a2",
   "metadata": {},
   "outputs": [
    {
     "data": {
      "text/html": [
       "<div>\n",
       "<style scoped>\n",
       "    .dataframe tbody tr th:only-of-type {\n",
       "        vertical-align: middle;\n",
       "    }\n",
       "\n",
       "    .dataframe tbody tr th {\n",
       "        vertical-align: top;\n",
       "    }\n",
       "\n",
       "    .dataframe thead th {\n",
       "        text-align: right;\n",
       "    }\n",
       "</style>\n",
       "<table border=\"1\" class=\"dataframe\">\n",
       "  <thead>\n",
       "    <tr style=\"text-align: right;\">\n",
       "      <th></th>\n",
       "      <th>gender</th>\n",
       "      <th>race/ethnicity</th>\n",
       "      <th>parental level of education</th>\n",
       "      <th>lunch</th>\n",
       "      <th>test preparation course</th>\n",
       "      <th>math score</th>\n",
       "      <th>reading score</th>\n",
       "      <th>writing score</th>\n",
       "      <th>avg score</th>\n",
       "    </tr>\n",
       "  </thead>\n",
       "  <tbody>\n",
       "    <tr>\n",
       "      <th>999</th>\n",
       "      <td>male</td>\n",
       "      <td>group E</td>\n",
       "      <td>bachelor's degree</td>\n",
       "      <td>standard</td>\n",
       "      <td>completed</td>\n",
       "      <td>100</td>\n",
       "      <td>100</td>\n",
       "      <td>100</td>\n",
       "      <td>100.0</td>\n",
       "    </tr>\n",
       "    <tr>\n",
       "      <th>996</th>\n",
       "      <td>male</td>\n",
       "      <td>group A</td>\n",
       "      <td>some college</td>\n",
       "      <td>standard</td>\n",
       "      <td>completed</td>\n",
       "      <td>100</td>\n",
       "      <td>96</td>\n",
       "      <td>86</td>\n",
       "      <td>94.0</td>\n",
       "    </tr>\n",
       "    <tr>\n",
       "      <th>515</th>\n",
       "      <td>female</td>\n",
       "      <td>group E</td>\n",
       "      <td>some college</td>\n",
       "      <td>standard</td>\n",
       "      <td>none</td>\n",
       "      <td>100</td>\n",
       "      <td>92</td>\n",
       "      <td>97</td>\n",
       "      <td>96.3</td>\n",
       "    </tr>\n",
       "    <tr>\n",
       "      <th>517</th>\n",
       "      <td>female</td>\n",
       "      <td>group E</td>\n",
       "      <td>associate's degree</td>\n",
       "      <td>standard</td>\n",
       "      <td>none</td>\n",
       "      <td>100</td>\n",
       "      <td>100</td>\n",
       "      <td>100</td>\n",
       "      <td>100.0</td>\n",
       "    </tr>\n",
       "    <tr>\n",
       "      <th>516</th>\n",
       "      <td>female</td>\n",
       "      <td>group E</td>\n",
       "      <td>bachelor's degree</td>\n",
       "      <td>standard</td>\n",
       "      <td>none</td>\n",
       "      <td>100</td>\n",
       "      <td>100</td>\n",
       "      <td>100</td>\n",
       "      <td>100.0</td>\n",
       "    </tr>\n",
       "    <tr>\n",
       "      <th>...</th>\n",
       "      <td>...</td>\n",
       "      <td>...</td>\n",
       "      <td>...</td>\n",
       "      <td>...</td>\n",
       "      <td>...</td>\n",
       "      <td>...</td>\n",
       "      <td>...</td>\n",
       "      <td>...</td>\n",
       "      <td>...</td>\n",
       "    </tr>\n",
       "    <tr>\n",
       "      <th>2</th>\n",
       "      <td>female</td>\n",
       "      <td>group B</td>\n",
       "      <td>some high school</td>\n",
       "      <td>free/reduced</td>\n",
       "      <td>none</td>\n",
       "      <td>18</td>\n",
       "      <td>32</td>\n",
       "      <td>28</td>\n",
       "      <td>26.0</td>\n",
       "    </tr>\n",
       "    <tr>\n",
       "      <th>51</th>\n",
       "      <td>female</td>\n",
       "      <td>group C</td>\n",
       "      <td>some high school</td>\n",
       "      <td>free/reduced</td>\n",
       "      <td>none</td>\n",
       "      <td>13</td>\n",
       "      <td>41</td>\n",
       "      <td>51</td>\n",
       "      <td>35.0</td>\n",
       "    </tr>\n",
       "    <tr>\n",
       "      <th>3</th>\n",
       "      <td>female</td>\n",
       "      <td>group B</td>\n",
       "      <td>some college</td>\n",
       "      <td>standard</td>\n",
       "      <td>none</td>\n",
       "      <td>11</td>\n",
       "      <td>38</td>\n",
       "      <td>32</td>\n",
       "      <td>27.0</td>\n",
       "    </tr>\n",
       "    <tr>\n",
       "      <th>1</th>\n",
       "      <td>female</td>\n",
       "      <td>group B</td>\n",
       "      <td>high school</td>\n",
       "      <td>free/reduced</td>\n",
       "      <td>none</td>\n",
       "      <td>8</td>\n",
       "      <td>24</td>\n",
       "      <td>23</td>\n",
       "      <td>18.3</td>\n",
       "    </tr>\n",
       "    <tr>\n",
       "      <th>0</th>\n",
       "      <td>female</td>\n",
       "      <td>group C</td>\n",
       "      <td>some high school</td>\n",
       "      <td>free/reduced</td>\n",
       "      <td>none</td>\n",
       "      <td>0</td>\n",
       "      <td>17</td>\n",
       "      <td>10</td>\n",
       "      <td>9.0</td>\n",
       "    </tr>\n",
       "  </tbody>\n",
       "</table>\n",
       "<p>1000 rows × 9 columns</p>\n",
       "</div>"
      ],
      "text/plain": [
       "     gender race/ethnicity parental level of education         lunch  \\\n",
       "999    male        group E           bachelor's degree      standard   \n",
       "996    male        group A                some college      standard   \n",
       "515  female        group E                some college      standard   \n",
       "517  female        group E          associate's degree      standard   \n",
       "516  female        group E           bachelor's degree      standard   \n",
       "..      ...            ...                         ...           ...   \n",
       "2    female        group B            some high school  free/reduced   \n",
       "51   female        group C            some high school  free/reduced   \n",
       "3    female        group B                some college      standard   \n",
       "1    female        group B                 high school  free/reduced   \n",
       "0    female        group C            some high school  free/reduced   \n",
       "\n",
       "    test preparation course  math score  reading score  writing score  \\\n",
       "999               completed         100            100            100   \n",
       "996               completed         100             96             86   \n",
       "515                    none         100             92             97   \n",
       "517                    none         100            100            100   \n",
       "516                    none         100            100            100   \n",
       "..                      ...         ...            ...            ...   \n",
       "2                      none          18             32             28   \n",
       "51                     none          13             41             51   \n",
       "3                      none          11             38             32   \n",
       "1                      none           8             24             23   \n",
       "0                      none           0             17             10   \n",
       "\n",
       "     avg score  \n",
       "999      100.0  \n",
       "996       94.0  \n",
       "515       96.3  \n",
       "517      100.0  \n",
       "516      100.0  \n",
       "..         ...  \n",
       "2         26.0  \n",
       "51        35.0  \n",
       "3         27.0  \n",
       "1         18.3  \n",
       "0          9.0  \n",
       "\n",
       "[1000 rows x 9 columns]"
      ]
     },
     "execution_count": 36,
     "metadata": {},
     "output_type": "execute_result"
    }
   ],
   "source": [
    "df= data.sort_values(by=['math score'],ascending=False)\n",
    "df"
   ]
  },
  {
   "cell_type": "code",
   "execution_count": 40,
   "id": "e730449f",
   "metadata": {},
   "outputs": [
    {
     "data": {
      "text/html": [
       "<div>\n",
       "<style scoped>\n",
       "    .dataframe tbody tr th:only-of-type {\n",
       "        vertical-align: middle;\n",
       "    }\n",
       "\n",
       "    .dataframe tbody tr th {\n",
       "        vertical-align: top;\n",
       "    }\n",
       "\n",
       "    .dataframe thead th {\n",
       "        text-align: right;\n",
       "    }\n",
       "</style>\n",
       "<table border=\"1\" class=\"dataframe\">\n",
       "  <thead>\n",
       "    <tr style=\"text-align: right;\">\n",
       "      <th></th>\n",
       "      <th>gender</th>\n",
       "      <th>race/ethnicity</th>\n",
       "      <th>parental level of education</th>\n",
       "      <th>lunch</th>\n",
       "      <th>test preparation course</th>\n",
       "      <th>math score</th>\n",
       "      <th>reading score</th>\n",
       "      <th>writing score</th>\n",
       "      <th>avg score</th>\n",
       "    </tr>\n",
       "  </thead>\n",
       "  <tbody>\n",
       "    <tr>\n",
       "      <th>999</th>\n",
       "      <td>male</td>\n",
       "      <td>group E</td>\n",
       "      <td>bachelor's degree</td>\n",
       "      <td>standard</td>\n",
       "      <td>completed</td>\n",
       "      <td>100</td>\n",
       "      <td>100</td>\n",
       "      <td>100</td>\n",
       "      <td>100.0</td>\n",
       "    </tr>\n",
       "    <tr>\n",
       "      <th>515</th>\n",
       "      <td>female</td>\n",
       "      <td>group E</td>\n",
       "      <td>some college</td>\n",
       "      <td>standard</td>\n",
       "      <td>none</td>\n",
       "      <td>100</td>\n",
       "      <td>92</td>\n",
       "      <td>97</td>\n",
       "      <td>96.3</td>\n",
       "    </tr>\n",
       "    <tr>\n",
       "      <th>517</th>\n",
       "      <td>female</td>\n",
       "      <td>group E</td>\n",
       "      <td>associate's degree</td>\n",
       "      <td>standard</td>\n",
       "      <td>none</td>\n",
       "      <td>100</td>\n",
       "      <td>100</td>\n",
       "      <td>100</td>\n",
       "      <td>100.0</td>\n",
       "    </tr>\n",
       "    <tr>\n",
       "      <th>516</th>\n",
       "      <td>female</td>\n",
       "      <td>group E</td>\n",
       "      <td>bachelor's degree</td>\n",
       "      <td>standard</td>\n",
       "      <td>none</td>\n",
       "      <td>100</td>\n",
       "      <td>100</td>\n",
       "      <td>100</td>\n",
       "      <td>100.0</td>\n",
       "    </tr>\n",
       "    <tr>\n",
       "      <th>997</th>\n",
       "      <td>male</td>\n",
       "      <td>group D</td>\n",
       "      <td>some college</td>\n",
       "      <td>standard</td>\n",
       "      <td>completed</td>\n",
       "      <td>100</td>\n",
       "      <td>97</td>\n",
       "      <td>99</td>\n",
       "      <td>98.7</td>\n",
       "    </tr>\n",
       "    <tr>\n",
       "      <th>...</th>\n",
       "      <td>...</td>\n",
       "      <td>...</td>\n",
       "      <td>...</td>\n",
       "      <td>...</td>\n",
       "      <td>...</td>\n",
       "      <td>...</td>\n",
       "      <td>...</td>\n",
       "      <td>...</td>\n",
       "      <td>...</td>\n",
       "    </tr>\n",
       "    <tr>\n",
       "      <th>418</th>\n",
       "      <td>female</td>\n",
       "      <td>group B</td>\n",
       "      <td>high school</td>\n",
       "      <td>standard</td>\n",
       "      <td>completed</td>\n",
       "      <td>77</td>\n",
       "      <td>82</td>\n",
       "      <td>89</td>\n",
       "      <td>82.7</td>\n",
       "    </tr>\n",
       "    <tr>\n",
       "      <th>420</th>\n",
       "      <td>female</td>\n",
       "      <td>group C</td>\n",
       "      <td>bachelor's degree</td>\n",
       "      <td>standard</td>\n",
       "      <td>completed</td>\n",
       "      <td>77</td>\n",
       "      <td>94</td>\n",
       "      <td>95</td>\n",
       "      <td>88.7</td>\n",
       "    </tr>\n",
       "    <tr>\n",
       "      <th>425</th>\n",
       "      <td>female</td>\n",
       "      <td>group D</td>\n",
       "      <td>master's degree</td>\n",
       "      <td>standard</td>\n",
       "      <td>completed</td>\n",
       "      <td>77</td>\n",
       "      <td>82</td>\n",
       "      <td>91</td>\n",
       "      <td>83.3</td>\n",
       "    </tr>\n",
       "    <tr>\n",
       "      <th>429</th>\n",
       "      <td>female</td>\n",
       "      <td>group E</td>\n",
       "      <td>some high school</td>\n",
       "      <td>standard</td>\n",
       "      <td>none</td>\n",
       "      <td>77</td>\n",
       "      <td>79</td>\n",
       "      <td>80</td>\n",
       "      <td>78.7</td>\n",
       "    </tr>\n",
       "    <tr>\n",
       "      <th>419</th>\n",
       "      <td>female</td>\n",
       "      <td>group C</td>\n",
       "      <td>bachelor's degree</td>\n",
       "      <td>standard</td>\n",
       "      <td>none</td>\n",
       "      <td>77</td>\n",
       "      <td>88</td>\n",
       "      <td>87</td>\n",
       "      <td>84.0</td>\n",
       "    </tr>\n",
       "  </tbody>\n",
       "</table>\n",
       "<p>250 rows × 9 columns</p>\n",
       "</div>"
      ],
      "text/plain": [
       "     gender race/ethnicity parental level of education     lunch  \\\n",
       "999    male        group E           bachelor's degree  standard   \n",
       "515  female        group E                some college  standard   \n",
       "517  female        group E          associate's degree  standard   \n",
       "516  female        group E           bachelor's degree  standard   \n",
       "997    male        group D                some college  standard   \n",
       "..      ...            ...                         ...       ...   \n",
       "418  female        group B                 high school  standard   \n",
       "420  female        group C           bachelor's degree  standard   \n",
       "425  female        group D             master's degree  standard   \n",
       "429  female        group E            some high school  standard   \n",
       "419  female        group C           bachelor's degree  standard   \n",
       "\n",
       "    test preparation course  math score  reading score  writing score  \\\n",
       "999               completed         100            100            100   \n",
       "515                    none         100             92             97   \n",
       "517                    none         100            100            100   \n",
       "516                    none         100            100            100   \n",
       "997               completed         100             97             99   \n",
       "..                      ...         ...            ...            ...   \n",
       "418               completed          77             82             89   \n",
       "420               completed          77             94             95   \n",
       "425               completed          77             82             91   \n",
       "429                    none          77             79             80   \n",
       "419                    none          77             88             87   \n",
       "\n",
       "     avg score  \n",
       "999      100.0  \n",
       "515       96.3  \n",
       "517      100.0  \n",
       "516      100.0  \n",
       "997       98.7  \n",
       "..         ...  \n",
       "418       82.7  \n",
       "420       88.7  \n",
       "425       83.3  \n",
       "429       78.7  \n",
       "419       84.0  \n",
       "\n",
       "[250 rows x 9 columns]"
      ]
     },
     "execution_count": 40,
     "metadata": {},
     "output_type": "execute_result"
    }
   ],
   "source": [
    "n=25\n",
    "df1.head(int(len(df1)*(n/100)))"
   ]
  },
  {
   "cell_type": "markdown",
   "id": "915100c5",
   "metadata": {},
   "source": [
    "# The top 25% students based on their math score is displayed"
   ]
  },
  {
   "cell_type": "code",
   "execution_count": null,
   "id": "a4883985",
   "metadata": {},
   "outputs": [],
   "source": []
  }
 ],
 "metadata": {
  "kernelspec": {
   "display_name": "Python 3",
   "language": "python",
   "name": "python3"
  },
  "language_info": {
   "codemirror_mode": {
    "name": "ipython",
    "version": 3
   },
   "file_extension": ".py",
   "mimetype": "text/x-python",
   "name": "python",
   "nbconvert_exporter": "python",
   "pygments_lexer": "ipython3",
   "version": "3.8.8"
  }
 },
 "nbformat": 4,
 "nbformat_minor": 5
}
